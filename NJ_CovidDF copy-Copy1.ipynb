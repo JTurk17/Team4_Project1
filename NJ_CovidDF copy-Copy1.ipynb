{
 "cells": [
  {
   "cell_type": "code",
   "execution_count": null,
   "id": "43c6ab6b-0aea-415a-a519-4a0c70da7d03",
   "metadata": {},
   "outputs": [],
   "source": [
    "import pandas as pd\n",
    "from pathlib import Path\n",
    "import matplotlib.pyplot as plt\n",
    "import numpy as np"
   ]
  },
  {
   "cell_type": "code",
   "execution_count": null,
   "id": "70834f5b-13af-4ad3-9409-cd45e5839445",
   "metadata": {},
   "outputs": [],
   "source": [
    "covid_data_csv = Path(\"COVID-19_Deaths_by_Sex_and_Age_20240328.csv\")"
   ]
  },
  {
   "cell_type": "code",
   "execution_count": null,
   "id": "fed2dc71-c4eb-4bc7-bf61-8d9111f395df",
   "metadata": {},
   "outputs": [],
   "source": [
    "covid_data_csv"
   ]
  },
  {
   "cell_type": "code",
   "execution_count": null,
   "id": "eecbe40a-5558-4d2c-90e3-05811fb5f0f8",
   "metadata": {},
   "outputs": [],
   "source": [
    "covid_data_df = pd.read_csv(covid_data_csv)"
   ]
  },
  {
   "cell_type": "code",
   "execution_count": null,
   "id": "b3cba94f-75e1-4077-bfc2-44e788879d85",
   "metadata": {},
   "outputs": [],
   "source": [
    "covid_data_df.head()"
   ]
  },
  {
   "cell_type": "code",
   "execution_count": null,
   "id": "d8feb8cd-800f-4eb2-9456-0f8af2207c24",
   "metadata": {},
   "outputs": [],
   "source": [
    "columns = [\"Data As Of\", \"Start Date\", \"End Date\",\t\"Group\", \"Year\", \"Month\", \"State\", \"Sex\", \"Age Group\",\n",
    "           \"COVID-19 Deaths\", \"Total Deaths\", \"Pneumonia Deaths\", \"Pneumonia and COVID-19 Deaths\", \"Influenza Deaths\",\n",
    "           \"Pneumonia, Influenza, or COVID-19 Deaths\"]\n",
    "covid_nj_df = covid_data_df.loc[covid_data_df[\"State\"] == \"New Jersey\", columns]"
   ]
  },
  {
   "cell_type": "code",
   "execution_count": null,
   "id": "e29af4a3-b489-4d0f-a261-92c2ba1296a6",
   "metadata": {},
   "outputs": [],
   "source": [
    "covid_nj_df"
   ]
  },
  {
   "cell_type": "code",
   "execution_count": null,
   "id": "58bd5750-be4d-4368-9f57-6e625fd968bc",
   "metadata": {},
   "outputs": [],
   "source": [
    "len(covid_nj_df)"
   ]
  },
  {
   "cell_type": "code",
   "execution_count": null,
   "id": "34c655d7-875a-4407-b9cf-9e76df480362",
   "metadata": {},
   "outputs": [],
   "source": [
    "Age_Tot_Deaths = covid_nj_df[[\"Age Group\", \"Total Deaths\", \"Year\", \"Start Date\", \"End Date\", \"Sex\"]] "
   ]
  },
  {
   "cell_type": "code",
   "execution_count": null,
   "id": "dfffeeeb-ff30-4479-84ed-67ca671c6328",
   "metadata": {},
   "outputs": [],
   "source": [
    "Age_Tot_Deaths"
   ]
  },
  {
   "cell_type": "code",
   "execution_count": null,
   "id": "1abe1802-7db0-4ea9-8c4a-19743930df4e",
   "metadata": {},
   "outputs": [],
   "source": [
    "Age_Tot_Deaths_cleaned = Age_Tot_Deaths.fillna(0)"
   ]
  },
  {
   "cell_type": "code",
   "execution_count": null,
   "id": "ace78315-fb57-4fe2-8e0a-a997ccc61a61",
   "metadata": {},
   "outputs": [],
   "source": [
    "Age_Tot_Deaths_cleaned"
   ]
  },
  {
   "cell_type": "code",
   "execution_count": null,
   "id": "73be42d1-6655-45bc-a381-f7ecc1fb2787",
   "metadata": {},
   "outputs": [],
   "source": [
    "year_sort = Age_Tot_Deaths_cleaned.sort_values(['Year', 'Age Group', 'Sex'])\n",
    "year_sort.head(51)"
   ]
  },
  {
   "cell_type": "code",
   "execution_count": null,
   "id": "9f81c2e2-1fcc-4a05-91c1-69da0c3e9ab6",
   "metadata": {},
   "outputs": [],
   "source": [
    "only_All_Sexes = year_sort.loc[(year_sort['Sex'] == 'All Sexes')]"
   ]
  },
  {
   "cell_type": "code",
   "execution_count": null,
   "id": "2f0a36b5-13f7-4073-a014-f83c70a1e143",
   "metadata": {},
   "outputs": [],
   "source": [
    "only_All_Sexes.head(52) "
   ]
  },
  {
   "cell_type": "code",
   "execution_count": null,
   "id": "48b25851-75e1-428f-a2f4-a7a6df017a1a",
   "metadata": {},
   "outputs": [],
   "source": [
    "All_sexes_three_year_end_date = only_All_Sexes.loc[(only_All_Sexes['End Date'] == '9/23/23')]"
   ]
  },
  {
   "cell_type": "code",
   "execution_count": null,
   "id": "0e41d9f6-8ab2-4622-b2ac-8dcb1590b223",
   "metadata": {},
   "outputs": [],
   "source": [
    "All_sexes_three_year_end_date"
   ]
  },
  {
   "cell_type": "code",
   "execution_count": null,
   "id": "bf829326-b19e-4bb3-a898-9cae77d92675",
   "metadata": {},
   "outputs": [],
   "source": [
    "All_sexes_full_three_year = All_sexes_three_year_end_date.loc[(All_sexes_three_year_end_date['Start Date'] == '1/1/20')]"
   ]
  },
  {
   "cell_type": "code",
   "execution_count": null,
   "id": "503a2df1-748a-4d07-92cf-2c50327d98ac",
   "metadata": {},
   "outputs": [],
   "source": [
    "All_sexes_full_three_year"
   ]
  },
  {
   "cell_type": "code",
   "execution_count": null,
   "id": "f79abb3b-e0ac-4f36-9ad4-355ba4ffd4de",
   "metadata": {},
   "outputs": [],
   "source": [
    "sorted_full = All_sexes_full_three_year.sort_values(['Age Group'])"
   ]
  },
  {
   "cell_type": "code",
   "execution_count": null,
   "id": "5eee51c0-363c-49c0-a399-8fded74de594",
   "metadata": {},
   "outputs": [],
   "source": [
    "ATDCcounts = Age_Tot_Deaths_cleaned.set_index(['Age Group'])['Total Deaths']\n",
    "ATDCcounts"
   ]
  },
  {
   "cell_type": "code",
   "execution_count": null,
   "id": "17d4118a-01bb-45ee-9810-b517231404a1",
   "metadata": {},
   "outputs": [],
   "source": [
    "sorted_full"
   ]
  },
  {
   "cell_type": "code",
   "execution_count": null,
   "id": "f382c2e6-ca29-4afe-af16-db6ae5eed489",
   "metadata": {},
   "outputs": [],
   "source": [
    "sorted_pie = [\"Under 1 year\", \"1-4 years\", \"5-14 years\", \"15-24 years\", \"25-34 years\", \"35-44 years\", \"45-54 years\", \"55-64 years\", \"65-74 years\", \"75-84 years\", \"85 years and over\"]\n",
    "pie_deaths = [1140,210,310,2051,5603,8874,16508,37609,57393,76960,106314]\n",
    "colors = [\"yellow\",\"green\",\"lightblue\",\"orange\",\"red\",\"purple\",\"pink\",\"yellowgreen\",\"lightskyblue\",\"lightcoral\",\"brown\"]\n",
    "explode = (0,0,0,0,0,0,0,0,0,0,0.1)"
   ]
  },
  {
   "cell_type": "code",
   "execution_count": null,
   "id": "e908b88f-9a2b-4c69-9c96-9a4e5065bd81",
   "metadata": {},
   "outputs": [],
   "source": [
    "plt.pie(pie_deaths, explode=explode, labels=sorted_pie, colors=colors,\n",
    "        autopct=\"%1.1f%%\", shadow=True, startangle=300)\n",
    "\n",
    "plt.axis(\"image\")\n",
    "plt.show()"
   ]
  },
  {
   "cell_type": "code",
   "execution_count": null,
   "id": "df2bc918-7d68-4c45-9561-123ac225b018",
   "metadata": {},
   "outputs": [],
   "source": [
    "cities = \"Under 1 year\", \"1-4 years\", \"5-14 years\", \"15-24 years\", \"25-34 years\", \"35-44 years\", \"45-54 years\", \"55-64 years\", \"65-74 years\", \"75-84 years\", \"85 years and over\"]\n",
    "cars_in_cities = [214.7, 564.4, 416.5, 466.7, 350.6]\n",
    "x_axis = np.arange(len(cars_in_cities))"
   ]
  },
  {
   "cell_type": "code",
   "execution_count": null,
   "id": "b3737790-0a09-4c17-9d57-0ca1e3debb8e",
   "metadata": {},
   "outputs": [],
   "source": [
    "Cleaned_Covid_Data = Path('Cleaned_Covid_Data.csv')"
   ]
  },
  {
   "cell_type": "code",
   "execution_count": null,
   "id": "37df8a88-fb99-4e97-95f5-3b0dcbb7a038",
   "metadata": {},
   "outputs": [],
   "source": [
    "Cleaned_Covid_Data"
   ]
  },
  {
   "cell_type": "code",
   "execution_count": null,
   "id": "7410841b-de3f-483b-9d0e-f992218fe132",
   "metadata": {},
   "outputs": [],
   "source": [
    "Cleaned_Covid_Data = pd.read_csv(Cleaned_Covid_Data)"
   ]
  },
  {
   "cell_type": "code",
   "execution_count": null,
   "id": "1985ed2e-02f6-4506-8b49-a4a2585450b7",
   "metadata": {},
   "outputs": [],
   "source": [
    "Cleaned_Covid_Data.head()"
   ]
  },
  {
   "cell_type": "code",
   "execution_count": null,
   "id": "4f218957-9312-496c-ba1d-756d4a015ba5",
   "metadata": {},
   "outputs": [],
   "source": [
    "Age_Tot_Deaths2 = Cleaned_Covid_Data[[\"Age Group\", \"State\", \"Total Deaths\", \"COVID-19 Deaths\", \"Year\", \"Start Date\", \"End Date\", \"Sex\"]] "
   ]
  },
  {
   "cell_type": "code",
   "execution_count": null,
   "id": "0fe276f2-e8b0-45ff-99bb-49087754c703",
   "metadata": {},
   "outputs": [],
   "source": [
    "Age_Tot_Deaths2"
   ]
  },
  {
   "cell_type": "code",
   "execution_count": null,
   "id": "38ab55f3-8426-433f-a369-b90c3993f4ef",
   "metadata": {},
   "outputs": [],
   "source": [
    "columns = [\"Age Group\", \"State\", \"Total Deaths\", \"COVID-19 Deaths\", \"Year\", \"Start Date\", \"End Date\", \"Sex\"]\n",
    "NJ_df = Age_Tot_Deaths2.loc[Age_Tot_Deaths2[\"State\"] == \"New Jersey\", columns]\n",
    "NJ_df"
   ]
  },
  {
   "cell_type": "code",
   "execution_count": null,
   "id": "1a928cb7-213a-45c6-9749-22e2360bd591",
   "metadata": {},
   "outputs": [],
   "source": [
    "NJ_df_sd = NJ_df.loc[NJ_df[\"Start Date\"] == \"01/01/2020\", columns]\n",
    "NJ_df_sd"
   ]
  },
  {
   "cell_type": "code",
   "execution_count": null,
   "id": "0c23303b-287f-43ec-a733-9a564e6e5a28",
   "metadata": {},
   "outputs": [],
   "source": [
    "NJ_df_ed = NJ_df_sd.loc[NJ_df_sd[\"End Date\"] == \"09/23/2023\", columns]\n",
    "NJ_df_ed"
   ]
  },
  {
   "cell_type": "code",
   "execution_count": null,
   "id": "d5b4d86b-90f8-453e-9c0c-11b1e6fbea16",
   "metadata": {},
   "outputs": [],
   "source": [
    "NJ_df_full = NJ_df_ed.loc[NJ_df_sd[\"Sex\"] == \"All Sexes\", columns]\n",
    "NJ_df_full"
   ]
  },
  {
   "cell_type": "code",
   "execution_count": null,
   "id": "d7130462-58d7-4ee8-af45-ca7799830ba5",
   "metadata": {},
   "outputs": [],
   "source": [
    "Deaths_pie = [\"Total Deaths\", \"COVID-19 Deaths\"] \n",
    "pie_deaths = [312963, 35691]\n",
    "colors = [\"yellow\",\"green\"]\n",
    "explode = (0,0)\n",
    "legend = 'Total Deaths vs. Covid Deaths'"
   ]
  },
  {
   "cell_type": "code",
   "execution_count": null,
   "id": "6e6147c3-e41d-4ce0-9648-5a5fbbc11370",
   "metadata": {},
   "outputs": [],
   "source": [
    "plt.pie(pie_deaths, explode=explode, labels=Deaths_pie, colors=colors,\n",
    "        autopct=\"%1.1f%%\", shadow=True, startangle=300)\n",
    "\n",
    "plt.axis(\"equal\")\n",
    "plt.show()"
   ]
  },
  {
   "cell_type": "code",
   "execution_count": null,
   "id": "fbd9ab93-9c2b-4d26-a0b8-40ad589a1d6d",
   "metadata": {},
   "outputs": [],
   "source": [
    "tot_age_deaths = [\"15-24 years\", \"25-34 years\", \"35-44 years\", \"45-54 years\", \"55-64 years\", \"65-74 years\", \"75-84 years\", \"85 years and over\"]\n",
    "tot_pie_deaths = [2051,5603,8874,16508,37609,57393,76960,106314]\n",
    "Colors = [\"lightblue\",\"orange\",\"red\",\"purple\",\"pink\",\"yellowgreen\",\"lightskyblue\",\"lightcoral\"]\n",
    "explode = (0,0,0,0,0,0,0,0)"
   ]
  },
  {
   "cell_type": "code",
   "execution_count": null,
   "id": "000eee7d-9ff8-4cc8-a771-749f49a9f829",
   "metadata": {},
   "outputs": [],
   "source": [
    "plt.pie(tot_pie_deaths, explode=explode, labels=tot_age_deaths, colors1=colors1,\n",
    "        autopct=\"%1.1f%%\", shadow=True, startangle=300)\n",
    "\n",
    "plt.axis(\"equal\")\n",
    "plt.show()"
   ]
  },
  {
   "cell_type": "code",
   "execution_count": null,
   "id": "3edbddaf-d15f-41b8-84a0-7a5e2f6c2153",
   "metadata": {},
   "outputs": [],
   "source": [
    "x_axis = np.arange(len(NJ_clean_ages))\n",
    "tick_locations = [value for value in x_axis]\n",
    "plt.figure(figsize=(15,5))\n",
    "plt.bar(x_axis, NJ_clean_ages[\"Total Deaths\"], color=\"orange\", alpha=.9, align=\"center\")\n",
    "tick_locations = [value for value in x_axis]\n",
    "plt.xticks(tick_locations, NJ_clean_ages[\"Age Group\"], rotation=\"vertical\")\n",
    "plt.show()"
   ]
  },
  {
   "cell_type": "code",
   "execution_count": null,
   "id": "5a149f5b-b125-4fd1-9074-60937de76188",
   "metadata": {},
   "outputs": [],
   "source": [
    "US_ages.plot(x=\"Age Group\", y=[\"Total Deaths\", \"COVID-19 Deaths\"],\n",
    "                xlabel=\"US Age Group\",\n",
    "                ylabel=\"US Number of Deaths\", kind=\"bar\", stacked=True,\n",
    "                title=\"United States Total Deaths vs. United States Covid Deaths (2020-2023)\",\n",
    "                width = .7, colormap='cividis')"
   ]
  },
  {
   "cell_type": "code",
   "execution_count": null,
   "id": "6824bcb4-21e2-4ee5-b59b-893df7d34341",
   "metadata": {},
   "outputs": [],
   "source": [
    "NJ_clean_ages.plot(x=\"Age Group\", y=[\"Total Deaths\", \"COVID-19 Deaths\"],\n",
    "                   xlabel=\"NJ Age Group\",\n",
    "                   ylabel=\"NJ Number of Deaths\", kind=\"bar\", stacked=True, \n",
    "                   title=\"New Jersey Total Deaths vs. New Jersey Covid Deaths (2020-2023)\",\n",
    "                   width = .7, colormap='Paired')"
   ]
  }
 ],
 "metadata": {
  "kernelspec": {
   "display_name": "Python 3 (ipykernel)",
   "language": "python",
   "name": "python3"
  },
  "language_info": {
   "codemirror_mode": {
    "name": "ipython",
    "version": 3
   },
   "file_extension": ".py",
   "mimetype": "text/x-python",
   "name": "python",
   "nbconvert_exporter": "python",
   "pygments_lexer": "ipython3",
   "version": "3.10.13"
  }
 },
 "nbformat": 4,
 "nbformat_minor": 5
}
